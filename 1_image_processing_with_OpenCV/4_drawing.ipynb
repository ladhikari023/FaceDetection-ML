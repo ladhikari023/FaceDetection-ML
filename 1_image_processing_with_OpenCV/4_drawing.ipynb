{
 "cells": [
  {
   "cell_type": "code",
   "execution_count": 1,
   "id": "75061b0f",
   "metadata": {},
   "outputs": [],
   "source": [
    "import cv2\n",
    "import numpy as np"
   ]
  },
  {
   "cell_type": "code",
   "execution_count": 2,
   "id": "618462cc",
   "metadata": {},
   "outputs": [],
   "source": [
    "canvas = np.zeros((300,300,3),dtype='uint8')"
   ]
  },
  {
   "cell_type": "markdown",
   "id": "a47dd8a1",
   "metadata": {},
   "source": [
    "cv2.imshow('canvas',canvas)\n",
    "cv2.waitKey(0)\n",
    "cv2.destroyAllWindows()"
   ]
  },
  {
   "cell_type": "markdown",
   "id": "4c952cbc",
   "metadata": {},
   "source": [
    "## line"
   ]
  },
  {
   "cell_type": "markdown",
   "id": "84dc9915",
   "metadata": {},
   "source": [
    "pt1 = (0,0)\n",
    "pt2 = (300,300)\n",
    "color = (0,255,0)\n",
    "cv2.line(canvas,pt1,pt2,color,)\n",
    "\n",
    "cv2.imshow('canvas',canvas)\n",
    "cv2.waitKey(0)\n",
    "cv2.destroyAllWindows()"
   ]
  },
  {
   "cell_type": "code",
   "execution_count": null,
   "id": "1c1fde42",
   "metadata": {},
   "outputs": [],
   "source": []
  }
 ],
 "metadata": {
  "kernelspec": {
   "display_name": "Python 3",
   "language": "python",
   "name": "python3"
  },
  "language_info": {
   "codemirror_mode": {
    "name": "ipython",
    "version": 3
   },
   "file_extension": ".py",
   "mimetype": "text/x-python",
   "name": "python",
   "nbconvert_exporter": "python",
   "pygments_lexer": "ipython3",
   "version": "3.8.8"
  }
 },
 "nbformat": 4,
 "nbformat_minor": 5
}
