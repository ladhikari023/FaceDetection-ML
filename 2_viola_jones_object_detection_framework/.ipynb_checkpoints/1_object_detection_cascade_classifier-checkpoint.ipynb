{
 "cells": [
  {
   "cell_type": "code",
   "execution_count": 1,
   "id": "e84a3730",
   "metadata": {},
   "outputs": [],
   "source": [
    "import numpy as np\n",
    "import cv2"
   ]
  },
  {
   "cell_type": "markdown",
   "id": "3e668a6b",
   "metadata": {},
   "source": [
    "## Face Detection"
   ]
  },
  {
   "cell_type": "code",
   "execution_count": 2,
   "id": "f160f400",
   "metadata": {},
   "outputs": [],
   "source": [
    "img = cv2.imread('./images/0021.jpg')"
   ]
  },
  {
   "cell_type": "code",
   "execution_count": 3,
   "id": "fe2c667e",
   "metadata": {},
   "outputs": [],
   "source": [
    "# load cascade classifier -  frontal face\n",
    "face_cascade = cv2.CascadeClassifier('./cascade_classifier/haarcascade_frontalface_default.xml')"
   ]
  },
  {
   "cell_type": "code",
   "execution_count": 4,
   "id": "a6161be9",
   "metadata": {},
   "outputs": [
    {
     "name": "stdout",
     "output_type": "stream",
     "text": [
      "[[114  40 196 196]]\n"
     ]
    }
   ],
   "source": [
    "# apply cascade classifier to an image\n",
    "faces,num_detection = face_cascade.detectMultiScale2(img)\n",
    "print(faces)"
   ]
  },
  {
   "cell_type": "code",
   "execution_count": 5,
   "id": "64b4f83c",
   "metadata": {},
   "outputs": [
    {
     "name": "stdout",
     "output_type": "stream",
     "text": [
      "[89]\n"
     ]
    }
   ],
   "source": [
    "print(num_detection)"
   ]
  },
  {
   "cell_type": "code",
   "execution_count": 6,
   "id": "e9a0f7d3",
   "metadata": {},
   "outputs": [
    {
     "data": {
      "text/plain": [
       "array([[[36, 31, 32],\n",
       "        [36, 31, 32],\n",
       "        [36, 31, 32],\n",
       "        ...,\n",
       "        [17, 13, 12],\n",
       "        [17, 13, 12],\n",
       "        [17, 13, 12]],\n",
       "\n",
       "       [[36, 31, 32],\n",
       "        [36, 31, 32],\n",
       "        [36, 31, 32],\n",
       "        ...,\n",
       "        [17, 13, 12],\n",
       "        [17, 13, 12],\n",
       "        [17, 13, 12]],\n",
       "\n",
       "       [[36, 31, 32],\n",
       "        [36, 31, 32],\n",
       "        [36, 31, 32],\n",
       "        ...,\n",
       "        [17, 13, 12],\n",
       "        [17, 13, 12],\n",
       "        [17, 13, 12]],\n",
       "\n",
       "       ...,\n",
       "\n",
       "       [[19, 17, 17],\n",
       "        [19, 17, 17],\n",
       "        [19, 17, 17],\n",
       "        ...,\n",
       "        [17, 15, 15],\n",
       "        [18, 16, 16],\n",
       "        [18, 16, 16]],\n",
       "\n",
       "       [[19, 17, 17],\n",
       "        [19, 17, 17],\n",
       "        [19, 17, 17],\n",
       "        ...,\n",
       "        [17, 15, 15],\n",
       "        [18, 16, 16],\n",
       "        [18, 16, 16]],\n",
       "\n",
       "       [[19, 17, 17],\n",
       "        [19, 17, 17],\n",
       "        [19, 17, 17],\n",
       "        ...,\n",
       "        [17, 15, 15],\n",
       "        [17, 15, 15],\n",
       "        [18, 16, 16]]], dtype=uint8)"
      ]
     },
     "execution_count": 6,
     "metadata": {},
     "output_type": "execute_result"
    }
   ],
   "source": [
    "pt1 = (114,40)\n",
    "pt2 = (114+196,40+196)\n",
    "# draw rectangle\n",
    "cv2.rectangle(img,pt1,pt2,(0,255,0))\n",
    "# cv2.imshow('face detection',img)\n",
    "# cv2.waitKey(0)\n",
    "# cv2.destroyAllWindows()"
   ]
  },
  {
   "cell_type": "code",
   "execution_count": 7,
   "id": "c13889c3",
   "metadata": {},
   "outputs": [],
   "source": [
    "cx = 114 + 196//2\n",
    "cy = 40 + 196//2\n",
    "r = 196 // 2\n",
    "\n",
    "# cv2.circle(img,(cx,cy),r,(0,255,255),2)\n",
    "# cv2.imshow('face detection',img)\n",
    "# cv2.waitKey(0)\n",
    "# cv2.destroyAllWindows()"
   ]
  },
  {
   "cell_type": "markdown",
   "id": "1d389696",
   "metadata": {},
   "source": [
    "## Multiple Face detection"
   ]
  },
  {
   "cell_type": "code",
   "execution_count": 8,
   "id": "e7b8c774",
   "metadata": {},
   "outputs": [],
   "source": [
    "img = cv2.imread('./images/friends.jpg')"
   ]
  },
  {
   "cell_type": "code",
   "execution_count": 9,
   "id": "51c35478",
   "metadata": {},
   "outputs": [],
   "source": [
    "face_cascade = cv2.CascadeClassifier('./cascade_classifier/haarcascade_frontalface_default.xml')\n",
    "\n",
    "# Step 1: apply cascade classifier to an image\n",
    "faces,num_detection = face_cascade.detectMultiScale2(img,minNeighbors=8)\n",
    "\n",
    "# step 2: run a loop\n",
    "\n",
    "for x,y,w,h in faces:\n",
    "    cv2.rectangle(img,(x,y),(x+w,y+h),(0,255,0))\n",
    "\n",
    "# step 3: display the image\n",
    "# cv2.imshow('face detection',img)\n",
    "# cv2.waitKey(0)\n",
    "# cv2.destroyAllWindows()"
   ]
  },
  {
   "cell_type": "markdown",
   "id": "bf7e7f22",
   "metadata": {},
   "source": [
    "## Faces and Eyes Detection"
   ]
  },
  {
   "cell_type": "code",
   "execution_count": 10,
   "id": "43d628a8",
   "metadata": {},
   "outputs": [],
   "source": [
    "img = cv2.imread('./images/friends.jpg')"
   ]
  },
  {
   "cell_type": "code",
   "execution_count": 11,
   "id": "32e674fa",
   "metadata": {},
   "outputs": [],
   "source": [
    "face_cascade = cv2.CascadeClassifier('./cascade_classifier/haarcascade_frontalface_default.xml')\n",
    "eye_cascade = cv2.CascadeClassifier('./cascade_classifier/haarcascade_eye.xml')\n"
   ]
  },
  {
   "cell_type": "code",
   "execution_count": 12,
   "id": "219db9a6",
   "metadata": {},
   "outputs": [],
   "source": [
    "# step -1: Face Detection\n",
    "faces, num_detection_face =face_cascade.detectMultiScale2(img,minNeighbors=8)\n",
    "for x,y,w,h in faces:\n",
    "    cv2.rectangle(img,(x,y),(x+w,y+h),(0,255,0))\n",
    "    \n",
    "    # step -2: croping the face\n",
    "    face_roi = img[y:y+h,x:x+h] # croping the image\n",
    "    # step -3: apply to cascasde classifier (eye)\n",
    "    eyes,num_detection_eyes = eye_cascade.detectMultiScale2(face_roi)\n",
    "    for ex, ey, ew, eh in eyes:\n",
    "        cx = x+ex+ew//2\n",
    "        cy = y+ey+eh//2\n",
    "        r = eh //2\n",
    "        cv2.circle(img,(cx,cy),r,(255,0,255),2)\n",
    "        \n",
    "# step-3:\n",
    "# cv2.imshow('face eye detection',img)\n",
    "# cv2.waitKey(0)\n",
    "# cv2.destroyAllWindows()\n"
   ]
  },
  {
   "cell_type": "markdown",
   "id": "64071c95",
   "metadata": {},
   "source": [
    "## Faces, Eyes, Smiles Detection"
   ]
  },
  {
   "cell_type": "code",
   "execution_count": 13,
   "id": "ad200f27",
   "metadata": {},
   "outputs": [],
   "source": [
    "img = cv2.imread('./images/friends.jpg')"
   ]
  },
  {
   "cell_type": "code",
   "execution_count": 14,
   "id": "96272e53",
   "metadata": {},
   "outputs": [],
   "source": [
    "face_cascade = cv2.CascadeClassifier('./cascade_classifier/haarcascade_frontalface_default.xml')\n",
    "eye_cascade = cv2.CascadeClassifier('./cascade_classifier/haarcascade_eye.xml')\n",
    "smile_cascade = cv2.CascadeClassifier('./cascade_classifier/haarcascade_smile.xml')\n",
    "\n",
    "# step -1: Face Detection\n",
    "faces, num_detection_face =face_cascade.detectMultiScale2(img,minNeighbors=8)\n",
    "for x,y,w,h in faces:\n",
    "    face_roi = img[y:y+h,x:x+h].copy() # croping the image\n",
    "    cv2.rectangle(img,(x,y),(x+w,y+h),(0,255,0))\n",
    "    \n",
    "    \n",
    "    \n",
    "    # step -2: apply to cascasde classifier (eye)\n",
    "    eyes,num_detection_eyes = eye_cascade.detectMultiScale2(face_roi)\n",
    "    for ex, ey, ew, eh in eyes:\n",
    "        cx = x+ex+ew//2\n",
    "        cy = y+ey+eh//2\n",
    "        r = eh //2\n",
    "        cv2.circle(img,(cx,cy),r,(255,0,255),2)\n",
    "        \n",
    "    # step -3: smile detection\n",
    "    smiles , num_detection_smile = smile_cascade.detectMultiScale2(face_roi)\n",
    "    for sx,sy, sw,sh in smiles:\n",
    "        cv2.rectangle(img,(x+sx,y+sy),(x+sx+sw,y+sy+sh),(255,0,0),2)\n",
    "        \n",
    "    \n",
    "        \n",
    "# step-4:\n",
    "# cv2.imshow('face eye smiles detection',img)\n",
    "# cv2.waitKey(0)\n",
    "# cv2.destroyAllWindows()"
   ]
  },
  {
   "cell_type": "code",
   "execution_count": null,
   "id": "ca320aab",
   "metadata": {},
   "outputs": [],
   "source": []
  }
 ],
 "metadata": {
  "kernelspec": {
   "display_name": "Python 3",
   "language": "python",
   "name": "python3"
  },
  "language_info": {
   "codemirror_mode": {
    "name": "ipython",
    "version": 3
   },
   "file_extension": ".py",
   "mimetype": "text/x-python",
   "name": "python",
   "nbconvert_exporter": "python",
   "pygments_lexer": "ipython3",
   "version": "3.8.8"
  }
 },
 "nbformat": 4,
 "nbformat_minor": 5
}
